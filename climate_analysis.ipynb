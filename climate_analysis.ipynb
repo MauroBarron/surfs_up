{
 "cells": [
  {
   "cell_type": "code",
   "execution_count": 1,
   "metadata": {},
   "outputs": [],
   "source": [
    "## Dependencies\n",
    "\n",
    "# MatPlotlib\n",
    "%matplotlib inline\n",
    "from matplotlib import style\n",
    "style.use('fivethirtyeight')\n",
    "import matplotlib.pyplot as plt\n",
    "\n",
    "# Standard\n",
    "import numpy as np\n",
    "import pandas as pd\n",
    "\n",
    "# Datetime\n",
    "import datetime as dt"
   ]
  },
  {
   "cell_type": "markdown",
   "metadata": {},
   "source": [
    "# Reflect Tables into SQLAlchemy ORM"
   ]
  },
  {
   "cell_type": "code",
   "execution_count": 2,
   "metadata": {},
   "outputs": [],
   "source": [
    "# Python SQL toolkit and Object Relational Mapper\n",
    "import sqlalchemy\n",
    "from sqlalchemy.ext.automap import automap_base\n",
    "from sqlalchemy.orm import Session\n",
    "from sqlalchemy import create_engine, func\n"
   ]
  },
  {
   "cell_type": "code",
   "execution_count": 3,
   "metadata": {},
   "outputs": [],
   "source": [
    "# Create an engine to the SQLLite DB\n",
    "engine = create_engine(\"sqlite:///hawaii.sqlite\")"
   ]
  },
  {
   "cell_type": "code",
   "execution_count": 4,
   "metadata": {},
   "outputs": [],
   "source": [
    "# reflect an existing database into a new model\n",
    "Base = automap_base()  # platform base engine\n",
    "# reflect the tables\n",
    "Base.prepare(engine, reflect=True)"
   ]
  },
  {
   "cell_type": "code",
   "execution_count": 5,
   "metadata": {},
   "outputs": [
    {
     "data": {
      "text/plain": [
       "['measurement', 'station']"
      ]
     },
     "execution_count": 5,
     "metadata": {},
     "output_type": "execute_result"
    }
   ],
   "source": [
    "# We can view all of the classes that automap found\n",
    "Base.classes.keys()"
   ]
  },
  {
   "cell_type": "code",
   "execution_count": 6,
   "metadata": {},
   "outputs": [],
   "source": [
    "# Save references to each table\n",
    "Measurement = Base.classes.measurement\n",
    "Station = Base.classes.station"
   ]
  },
  {
   "cell_type": "code",
   "execution_count": 7,
   "metadata": {},
   "outputs": [],
   "source": [
    "# Create our session (link) from Python to the DB\n",
    "session = Session(engine)"
   ]
  },
  {
   "cell_type": "markdown",
   "metadata": {},
   "source": [
    "# Exploratory Climate Analysis"
   ]
  },
  {
   "cell_type": "code",
   "execution_count": null,
   "metadata": {},
   "outputs": [],
   "source": [
    "### Design a query to retrieve the last 12 months of precipitation data and plot the results. \n",
    "\n",
    "#Starting from the last data point in the database. \n",
    "\n",
    "# Calculate the date one year from the last date in data set.\n",
    "prev_year = dt.date(2017, 8, 23) - dt.timedelta(days=365)\n",
    "\n",
    "## Perform a query to retrieve the date and precipitation scores\n",
    " # declares the variable\n",
    "results = []\n",
    "\n",
    "# defines the variable to query measurement date and precipitation scores\n",
    "results = session.query(Measurement.date, Measurement.prcp) # queries the data\n",
    "\n",
    "# filter the query so data is great than our starting point of previous year.  Using chaining.\n",
    "results = session.query(Measurement.date, Measurement.prcp).filter(Measurement.date >= prev_year)\n",
    "\n",
    "# view the data\n",
    "#print(results.all()) #\n",
    "\n",
    "# # chain the .all() to get results in a list\n",
    "results = session.query(Measurement.date, Measurement.prcp).filter(Measurement.date >= prev_year).all()\n",
    "print(results) \n",
    "\n",
    "# Save the query results as a Pandas DataFrame and set the index to the date column\n",
    "df = pd.DataFrame(results, columns=['date','precipitation'])\n",
    "df.set_index(df['date'], inplace=True)\n",
    "\n",
    "# View the DF\n",
    "#print(df)\n",
    "\n",
    "# View the DF without the index\n",
    "#print(df.to_string(index=False))\n",
    "\n",
    "# Sort the dataframe by date\n",
    "df = df.sort_index()\n",
    "\n",
    "print(df.to_string(index=False))"
   ]
  },
  {
   "cell_type": "code",
   "execution_count": null,
   "metadata": {},
   "outputs": [],
   "source": [
    "# Use Pandas Plotting with Matplotlib to plot the data\n",
    "df.plot(x='date', y='precipitation')"
   ]
  },
  {
   "cell_type": "code",
   "execution_count": null,
   "metadata": {},
   "outputs": [],
   "source": [
    "# Use Pandas to calculAte the summary statistics for the precipitation data\n",
    "df.describe()"
   ]
  },
  {
   "cell_type": "code",
   "execution_count": null,
   "metadata": {},
   "outputs": [],
   "source": [
    "# How many stations are available in this dataset?\n",
    "session.query(func.count(Station.station)).all()\n",
    "# does not run without the all(). so you have to designate the set of values in the classes/table-rows."
   ]
  },
  {
   "cell_type": "code",
   "execution_count": null,
   "metadata": {},
   "outputs": [],
   "source": [
    "# What are the most active stations?\n",
    "# List the stations and the counts in descending order.\n",
    "session.query((Measurement.station), func.count(Measurement.station)). \\\n",
    "    group_by(Measurement.station).order_by(func.count(Measurement.station).desc()). \\\n",
    "    all()"
   ]
  },
  {
   "cell_type": "code",
   "execution_count": null,
   "metadata": {},
   "outputs": [],
   "source": [
    "# Using the station id from the previous query, calculate the lowest temperature recorded, \n",
    "# highest temperature recorded, and average temperature most active station?\n",
    "\n",
    "#session.query() basic form of session query\n",
    "#session.query(func.min(Measurement.tobs), func.max(Measurement.tobs), func.avg(Measurement.tobs)).all()\n",
    "session.query(func.min(Measurement.tobs), func.max(Measurement.tobs), func.avg(Measurement.tobs)).\\\n",
    "    filter(Measurement.station == 'USC00519281'). \\\n",
    "    all()\n"
   ]
  },
  {
   "cell_type": "code",
   "execution_count": null,
   "metadata": {},
   "outputs": [],
   "source": [
    "# Choose the station with the highest number of temperature observations.\n",
    "\n",
    "# Query the last 12 months of temperature observation data for this station and plot the results as a histogram\n",
    "#session.query(Measurement.tobs)  ## session query against Measurement -observedtemps\n",
    "\n",
    "# filter  to single station\n",
    "#results = session.query(Measurement.tobs).filter(Measurement.station == 'USC00519281')\n",
    "\n",
    "# add filter for previous year - chaining\n",
    "results = session.query(Measurement.tobs).\\\n",
    "    filter(Measurement.station == 'USC00519281'). \\\n",
    "    filter(Measurement.date >= prev_year). \\\n",
    "    all()\n",
    "# print(results)\n",
    "\n",
    "df = pd.DataFrame(results, columns=['tobs'])\n",
    "# print(df)"
   ]
  },
  {
   "cell_type": "code",
   "execution_count": null,
   "metadata": {},
   "outputs": [],
   "source": [
    "# and finally plot\n",
    "df.plot.hist(bins=12)\n",
    "plt.tight_layout()\n",
    "# looks loke some temps are not represented lit "
   ]
  },
  {
   "cell_type": "code",
   "execution_count": null,
   "metadata": {},
   "outputs": [],
   "source": [
    "# Write a function called `calc_temps` that will accept start date and end date in the format '%Y-%m-%d' \n",
    "# and return the minimum, average, and maximum temperatures for that range of dates\n",
    "\n",
    "#def calc_temps(start, end):\n",
    "    # input start\n",
    "    # input end"
   ]
  },
  {
   "cell_type": "markdown",
   "metadata": {},
   "source": [
    "# Challenge"
   ]
  },
  {
   "cell_type": "code",
   "execution_count": null,
   "metadata": {},
   "outputs": [],
   "source": [
    "### Determine key statistical data about precipation data in the month of June.\n",
    "\n",
    "# Set date variables for month of  June\n",
    "start = dt.date(2017, 6, 1)\n",
    "end = dt.date(2017, 6, 30)\n",
    "\n",
    "# Create a results set from a session query of the Hawaii data for June\n",
    "results = session.query(Measurement.date, Measurement.station, Measurement.prcp, Measurement.tobs). \\\n",
    "    filter(Measurement.date >= start).filter(Measurement.date <= end). \\\n",
    "    all()\n",
    "\n",
    "# Save the query results as a Pandas DataFrame and set the index to the date column\n",
    "june_df = pd.DataFrame(results, columns=['date', 'station','precipitation','temperature'])\n",
    "\n",
    "june_df.set_index(june_df['date'], inplace=True)\n",
    "\n",
    "# Sort the dataframe by date\n",
    "june_df = june_df.sort_index()\n",
    "\n",
    "# View the data\n",
    "# print(june_df.to_string(index=False))\n",
    "june_df.head()"
   ]
  },
  {
   "cell_type": "code",
   "execution_count": null,
   "metadata": {},
   "outputs": [],
   "source": [
    "## Visual exploration of June Precipitation\n",
    "plt.style.use('fivethirtyeight') # figure style \n",
    "june_df.plot(x='date', y='precipitation', color=\"blue\", figsize=(12,6)) # does not seem terrible. one  or two heavy day. \n",
    "plt.xlabel(\"Date\")\n",
    "plt.ylabel (\"Precipitation\")\n",
    "plt.title(\"Oahu June: Daily Rain in Inches\")\n",
    "plt.grid()\n",
    "plt.tight_layout()\n",
    "plt.savefig(\"Images/Oahu_June_Daily_Rain_in_Inches.png\")"
   ]
  },
  {
   "cell_type": "code",
   "execution_count": null,
   "metadata": {},
   "outputs": [],
   "source": [
    "## Visual exploration of June Temperatures\n",
    "plt.style.use('fivethirtyeight') # figure style\n",
    "june_df.plot(x='date', y='temperature', color=\"red\", figsize=(12,6)) # does not seem terrible. one  or two heavy day. \n",
    "plt.xlabel(\"Date\")\n",
    "plt.ylabel (\"Temperature\")\n",
    "plt.title(\"Oahu June Temperatures\")\n",
    "plt.grid()\n",
    "plt.tight_layout()\n",
    "plt.savefig(\"Images/Oahu_June_Temperatures.png\") "
   ]
  },
  {
   "cell_type": "code",
   "execution_count": null,
   "metadata": {},
   "outputs": [],
   "source": [
    "## And finally our statistics\n",
    "june_df.describe()"
   ]
  },
  {
   "cell_type": "code",
   "execution_count": null,
   "metadata": {},
   "outputs": [],
   "source": [
    "### Determine key statistical data about precipation data in the month of November.\n",
    "\n",
    "# Set date variables for month of November\n",
    "start = dt.date(2016, 11, 1)\n",
    "end = dt.date(2016, 11, 30)\n",
    "\n",
    "# Create a results set from a session query of the Hawaii data for June\n",
    "results = session.query(Measurement.date, Measurement.station, Measurement.prcp, Measurement.tobs). \\\n",
    "    filter(Measurement.date >= start).filter(Measurement.date <= end). \\\n",
    "    all()\n",
    "\n",
    "# Save the query results as a Pandas DataFrame and set the index to the date column\n",
    "november_df = pd.DataFrame(results, columns=['date', 'station','precipitation','temperature'])\n",
    "november_df.set_index(november_df['date'], inplace=True)\n",
    "\n",
    "# Sort the dataframe by date\n",
    "november_df = november_df.sort_index()\n",
    "\n",
    "# View the data\n",
    "#print(june_df.to_string(index=False))\n",
    "november_df.head()"
   ]
  },
  {
   "cell_type": "code",
   "execution_count": null,
   "metadata": {},
   "outputs": [],
   "source": [
    "## Visual exploration of November Precipitation\n",
    "plt.style.use('fivethirtyeight') # figure style \n",
    "november_df.plot(x='date', y='precipitation', color=\"blue\", figsize=(12,6)) # does not seem terrible. one  or two heavy day. \n",
    "plt.xlabel(\"Date\")\n",
    "plt.ylabel (\"Precipitation\")\n",
    "plt.title(\"Oahu November Daily Rain in Inches\")\n",
    "plt.grid()\n",
    "plt.tight_layout()\n",
    "plt.savefig(\"Images/Oahu_November_Daily_Rain_in_Inches.png\")"
   ]
  },
  {
   "cell_type": "code",
   "execution_count": null,
   "metadata": {},
   "outputs": [],
   "source": [
    "## Visual exploration of November Temperatures\n",
    "november_df.plot(x='date', y='temperature', color=\"red\", figsize=(12,6)) # does not seem terrible. one  or two heavy day. \n",
    "plt.xlabel(\"Date\")\n",
    "plt.ylabel (\"Temperature\")\n",
    "plt.title(\"Oahu November Temperatures\")\n",
    "plt.grid()\n",
    "plt.tight_layout()\n",
    "plt.savefig(\"Images/Oahu_November_Temperatures.png\")  # save pix"
   ]
  },
  {
   "cell_type": "code",
   "execution_count": null,
   "metadata": {},
   "outputs": [],
   "source": [
    "## Now some analysis of November weather. \n",
    "november_df.describe()"
   ]
  },
  {
   "cell_type": "code",
   "execution_count": null,
   "metadata": {},
   "outputs": [],
   "source": [
    "### Analysis of Weather Differences between June 2017 and November 2016 in Oahu, Hawaii.\n",
    "\n",
    "## Analysis of Rain differences\n",
    "\n",
    "# The average(mean) rain between June and November is about same, .12 inches. \n",
    "# Average daily run in June varies by a std of 0.2 inches while in November the std is 0.34 inches.\n",
    "# This means that in June it is not uncommon to have days with twice the daily rain while in \n",
    "# .. November it is not uncommon to have three times the average daily rain. \n",
    "# So essentially the storms are stronger in Novemeber. \n",
    " \n",
    "# In both months, half the days have less than 0.02 inches of rain. \n",
    "#  75% of the days in June have less than a 0.15 inches while in November 75% of the days have less\n",
    "# than 0.09 inches, which means that it rains more frequently in June, but the storms are stronger in November.\n",
    "\n",
    "## Overall I would say in both months the rain is not a big factor on most days. \n",
    "# In June there are regular small rain storms while in November most das are dryer but the storms are more powerful.\n",
    "# Potentially, during bad stormy days in November the rain could very well affect business.\n",
    "\n",
    "## Analysis of Temparature Differences\n",
    "\n",
    "# On average a day in June is 77 degrees while November is 74 degrees. \n",
    "# This is a very small difference between the two months. \n",
    "# The std comparisons indicate that the a normal variance for November is 2.8 degrees while its \n",
    "# 2.6 degress in June. This is also another small difference\n",
    "\n",
    "# The differences in temperature between months are seen at the extremes. \n",
    "# November can be as cold as 63 degrees with a high of 80, while June low is only 71, with max of 83.\n",
    "# So the temp in June varies within a range of 12 degress while \n",
    "# the November range is 17 degrees where the low of 63 is 11 degress below average.\n",
    "\n",
    "# Overall, temperature in June and November tends to stay in the 70s with highs varying by six degress above average in both months, and the lows in November dipping by a greater margin than June, to 63 degrees.\n",
    "\n",
    "# Both months produce comfortable weather ranging from 63 to 83 degrees with regular small amounts of rain.\n",
    "# Sounds like paradise!\n",
    "\n",
    "\n",
    "## Recommendations.\n",
    "\n",
    "# Recommend  1 - drilling down into the data by Station and plotting the Stations on a map. Oahu\n",
    "# is big island and there may be variances by Station that should be accounted for.\n",
    "\n",
    "# Recommend 2 - Given the occasional relatively heavy storms in November, it would be good to define\n",
    "# a threshold of how much rain per day is expected to impact business, then do some analysis based on \n",
    "# days that meet the threshold, using year long data."
   ]
  }
 ],
 "metadata": {
  "kernelspec": {
   "display_name": "'Python Interactive'",
   "language": "python",
   "name": "8c18fe26-91f4-4cfe-9bcb-6ddcc7aba33a"
  },
  "language_info": {
   "codemirror_mode": {
    "name": "ipython",
    "version": 3
   },
   "file_extension": ".py",
   "mimetype": "text/x-python",
   "name": "python",
   "nbconvert_exporter": "python",
   "pygments_lexer": "ipython3",
   "version": "3.7.4"
  }
 },
 "nbformat": 4,
 "nbformat_minor": 2
}
